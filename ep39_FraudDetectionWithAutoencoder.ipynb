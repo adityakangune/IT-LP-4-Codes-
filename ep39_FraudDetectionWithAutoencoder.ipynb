{
  "nbformat": 4,
  "nbformat_minor": 0,
  "metadata": {
    "colab": {
      "name": "ep39_FraudDetectionWithAutoencoder.ipynb",
      "provenance": [],
      "collapsed_sections": []
    },
    "kernelspec": {
      "name": "python3",
      "display_name": "Python 3"
    },
    "language_info": {
      "name": "python"
    }
  },
  "cells": [
    {
      "cell_type": "markdown",
      "source": [
        "# Episode 39. Credit Card Fraud Detection With Autoencoder"
      ],
      "metadata": {
        "id": "Co2QmJ2r9-34"
      }
    },
    {
      "cell_type": "markdown",
      "source": [
        "## Preparation Steps From Episode 35"
      ],
      "metadata": {
        "id": "UIk1tWMR_lmU"
      }
    },
    {
      "cell_type": "code",
      "source": [
        "# import libraries\n",
        "import numpy as np\n",
        "import pandas as pd\n",
        "import matplotlib.pyplot as plt\n",
        "import seaborn as sns\n",
        "from sklearn.model_selection import train_test_split\n",
        "from sklearn.preprocessing import StandardScaler"
      ],
      "metadata": {
        "id": "EaSLWUZX9_I-"
      },
      "execution_count": 1,
      "outputs": []
    },
    {
      "cell_type": "code",
      "source": [
        "# Set Environment Variables\n",
        "%matplotlib inline\n",
        "RANDOM_SEED = 27\n",
        "LABELS = [\"Normal\", \"Fraud\"]"
      ],
      "metadata": {
        "id": "JBPr7Mt-_Bj_"
      },
      "execution_count": 2,
      "outputs": []
    },
    {
      "cell_type": "code",
      "source": [
        "# Kaggle Credit Card Fraud Detection Data: https://www.kaggle.com/mlg-ulb/creditcardfraud\n",
        "# Mount Your Account at Google Drive\n",
        "from google.colab import drive\n",
        "drive.mount('./mount')"
      ],
      "metadata": {
        "colab": {
          "base_uri": "https://localhost:8080/"
        },
        "id": "Vy8NwYlZ9_Pg",
        "outputId": "3cec7d6c-726f-4af3-d424-1c10c0540841"
      },
      "execution_count": 3,
      "outputs": [
        {
          "output_type": "stream",
          "name": "stdout",
          "text": [
            "Mounted at ./mount\n"
          ]
        }
      ]
    },
    {
      "cell_type": "code",
      "source": [
        "df = pd.read_csv(\"mount/My Drive/Colab Notebooks/creditcard.csv\")"
      ],
      "metadata": {
        "id": "4MdoHiel9_Ta"
      },
      "execution_count": 4,
      "outputs": []
    },
    {
      "cell_type": "code",
      "source": [
        "# Time is irrelevant\n",
        "df2 = df.drop(['Time'], axis=1)\n",
        "# Standardize Amount\n",
        "#df2['Amount'] = StandardScaler().fit_transform(df2['Amount'].values.reshape(-1, 1))\n",
        "# split data\n",
        "X_train, X_test = train_test_split(df2, test_size=0.2, random_state=RANDOM_SEED)\n",
        "# Train on Normal (Class=0)\n",
        "X_train = X_train[X_train.Class == 0]\n",
        "# \"Class\" variable is not needed\n",
        "X_train = X_train.drop(['Class'], axis=1)\n",
        "# test data\n",
        "y_test = X_test['Class']\n",
        "X_test = X_test.drop(['Class'], axis=1)\n",
        "\n",
        "# Standardize data based on mean & sd of X_train\n",
        "mean = X_train.mean(axis=0)\n",
        "std = X_train.std(axis=0)\n",
        "X_train = (X_train - mean) / std\n",
        "X_test = (X_test - mean) / std\n",
        "\n",
        "# convert to numpy\n",
        "X_train = X_train.to_numpy()\n",
        "X_test = X_test.to_numpy()\n",
        "y_test = y_test.to_numpy()"
      ],
      "metadata": {
        "id": "5wkNh8a9-KgT"
      },
      "execution_count": 5,
      "outputs": []
    },
    {
      "cell_type": "code",
      "source": [
        "# check standardization of the data\n",
        "print(np.mean(X_train,axis=0))\n",
        "print(np.std(X_train,axis=0))\n",
        "print(np.mean(X_test,axis=0))\n",
        "print(np.std(X_test,axis=0))"
      ],
      "metadata": {
        "id": "WGBeuOqa-Kjk"
      },
      "execution_count": null,
      "outputs": []
    },
    {
      "cell_type": "markdown",
      "source": [
        "## Now Start Fraud Detection"
      ],
      "metadata": {
        "id": "6dtSVGmHCtcw"
      }
    },
    {
      "cell_type": "markdown",
      "source": [
        "### Set Up Autoencoder Network"
      ],
      "metadata": {
        "id": "PeqOP18O5xw2"
      }
    },
    {
      "cell_type": "code",
      "source": [
        "from tensorflow.keras.layers import Input, Dense\n",
        "from tensorflow.keras.models import Model\n",
        "from tensorflow.keras import regularizers"
      ],
      "metadata": {
        "id": "65SlRyJL6ZpJ"
      },
      "execution_count": 12,
      "outputs": []
    },
    {
      "cell_type": "code",
      "source": [
        "# defining the key parameters\n",
        "batch_size = 100\n",
        "original_dim = 29\n",
        "latent_dim = 5\n",
        "intermediate_dim1 = 20\n",
        "intermediate_dim2 = 10\n",
        "epochs = 50\n",
        "epsilon_std = 1.0"
      ],
      "metadata": {
        "id": "JhnRM9xp5qos"
      },
      "execution_count": 10,
      "outputs": []
    },
    {
      "cell_type": "code",
      "source": [
        "#########################\n",
        "# input to our encoder\n",
        "#########################\n",
        "x = Input(shape=(original_dim,), name=\"input\")\n",
        "# intermediate layer\n",
        "h1 = Dense(intermediate_dim1, activation=\"tanh\", name=\"encoding1\", activity_regularizer=regularizers.l1(10e-5))(x)\n",
        "h = Dense(intermediate_dim2, activation='relu', name=\"encoding\")(h1)\n",
        "# defining the mean of the latent space\n",
        "z = Dense(latent_dim, activation='relu', name=\"encoder_out\")(h)\n",
        "# defining the encoder as a keras model\n",
        "encoder = Model(x, z, name=\"encoder\")\n",
        "# print out summary of what we just did\n",
        "encoder.summary()"
      ],
      "metadata": {
        "colab": {
          "base_uri": "https://localhost:8080/"
        },
        "id": "55c33CNR5qth",
        "outputId": "8ab67562-e0cb-4e6d-9986-861471827006"
      },
      "execution_count": 13,
      "outputs": [
        {
          "output_type": "stream",
          "name": "stdout",
          "text": [
            "Model: \"encoder\"\n",
            "_________________________________________________________________\n",
            " Layer (type)                Output Shape              Param #   \n",
            "=================================================================\n",
            " input (InputLayer)          [(None, 29)]              0         \n",
            "                                                                 \n",
            " encoding1 (Dense)           (None, 20)                600       \n",
            "                                                                 \n",
            " encoding (Dense)            (None, 10)                210       \n",
            "                                                                 \n",
            " encoder_out (Dense)         (None, 5)                 55        \n",
            "                                                                 \n",
            "=================================================================\n",
            "Total params: 865\n",
            "Trainable params: 865\n",
            "Non-trainable params: 0\n",
            "_________________________________________________________________\n"
          ]
        }
      ]
    },
    {
      "cell_type": "code",
      "source": [
        "#########################\n",
        "# Input to the decoder\n",
        "#########################\n",
        "input_decoder = Input(shape=(latent_dim,), name=\"decoder_input\")\n",
        "# taking the latent space to intermediate dimension\n",
        "decoder_h1 = Dense(intermediate_dim2, activation='relu', name=\"decoder_h1\")(input_decoder)\n",
        "decoder_h = Dense(intermediate_dim1, activation='relu', name=\"decoder_h\")(decoder_h1)\n",
        "# getting the mean from the original dimension\n",
        "x_decoded = Dense(original_dim, activation='tanh', name=\"flat_decoded\")(decoder_h)\n",
        "# defining the decoder as a keras model\n",
        "decoder = Model(input_decoder, x_decoded, name=\"decoder\")\n",
        "decoder.summary()"
      ],
      "metadata": {
        "colab": {
          "base_uri": "https://localhost:8080/"
        },
        "id": "a6yCZAPH5qxN",
        "outputId": "eef9efe5-ad62-47f3-e8df-51788a1b309a"
      },
      "execution_count": 14,
      "outputs": [
        {
          "output_type": "stream",
          "name": "stdout",
          "text": [
            "Model: \"decoder\"\n",
            "_________________________________________________________________\n",
            " Layer (type)                Output Shape              Param #   \n",
            "=================================================================\n",
            " decoder_input (InputLayer)  [(None, 5)]               0         \n",
            "                                                                 \n",
            " decoder_h1 (Dense)          (None, 10)                60        \n",
            "                                                                 \n",
            " decoder_h (Dense)           (None, 20)                220       \n",
            "                                                                 \n",
            " flat_decoded (Dense)        (None, 29)                609       \n",
            "                                                                 \n",
            "=================================================================\n",
            "Total params: 889\n",
            "Trainable params: 889\n",
            "Non-trainable params: 0\n",
            "_________________________________________________________________\n"
          ]
        }
      ]
    },
    {
      "cell_type": "code",
      "source": [
        "##########################\n",
        "# Autoencoder\n",
        "##########################\n",
        "# grab the output. Recall, that we need to grab the 3rd element our sampling z\n",
        "output_combined = decoder(encoder(x))\n",
        "# link the input and the overall output\n",
        "autoencoder = Model(x, output_combined)\n",
        "# print out what the overall model looks like\n",
        "autoencoder.summary()"
      ],
      "metadata": {
        "colab": {
          "base_uri": "https://localhost:8080/"
        },
        "id": "qYGJhUly5q0g",
        "outputId": "a421b455-fdde-4dfe-d04e-410e2abcca7c"
      },
      "execution_count": 15,
      "outputs": [
        {
          "output_type": "stream",
          "name": "stdout",
          "text": [
            "Model: \"model\"\n",
            "_________________________________________________________________\n",
            " Layer (type)                Output Shape              Param #   \n",
            "=================================================================\n",
            " input (InputLayer)          [(None, 29)]              0         \n",
            "                                                                 \n",
            " encoder (Functional)        (None, 5)                 865       \n",
            "                                                                 \n",
            " decoder (Functional)        (None, 29)                889       \n",
            "                                                                 \n",
            "=================================================================\n",
            "Total params: 1,754\n",
            "Trainable params: 1,754\n",
            "Non-trainable params: 0\n",
            "_________________________________________________________________\n"
          ]
        }
      ]
    },
    {
      "cell_type": "markdown",
      "source": [
        "### (2) Train Neural Network"
      ],
      "metadata": {
        "id": "cYY6b8bb8HSa"
      }
    },
    {
      "cell_type": "code",
      "source": [
        "########################\n",
        "# training Autoencoder\n",
        "########################\n",
        "autoencoder.compile(optimizer='adam', loss='mean_squared_error', metrics=['accuracy'])\n",
        "\n",
        "history = autoencoder.fit(X_train, X_train,\n",
        "                    epochs=epochs,\n",
        "                    batch_size=batch_size,\n",
        "                    shuffle=True,\n",
        "                    validation_data=(X_test, X_test),\n",
        "                    verbose=1).history"
      ],
      "metadata": {
        "id": "kzCznPPp59Rm"
      },
      "execution_count": null,
      "outputs": []
    },
    {
      "cell_type": "markdown",
      "source": [
        "### (3) Reconstruction Error"
      ],
      "metadata": {
        "id": "PcPQDR5u8SsK"
      }
    },
    {
      "cell_type": "code",
      "source": [
        "##########################################\n",
        "# prediction & reconstruction error\n",
        "##########################################\n",
        "predictions = autoencoder.predict(X_test)\n",
        "mse = np.mean(np.power(X_test - predictions, 2), axis=1)\n",
        "error_df = pd.DataFrame({'reconstruction_error': mse, 'true_class': y_test})\n",
        "print(\"Full Sample\",error_df.describe())\n",
        "error_df_true = error_df[(error_df['true_class']== 0)]\n",
        "print(\"Normal Sample\",error_df_true.describe())\n",
        "error_df_false = error_df[(error_df['true_class']== 1)]\n",
        "print(\"Fraud Sample\",error_df_false.describe())"
      ],
      "metadata": {
        "colab": {
          "base_uri": "https://localhost:8080/"
        },
        "id": "s6UURTLC59WQ",
        "outputId": "efbd6494-9b16-4cf6-ccc6-885bea5bf851"
      },
      "execution_count": 18,
      "outputs": [
        {
          "output_type": "stream",
          "name": "stdout",
          "text": [
            "Full Sample        reconstruction_error    true_class\n",
            "count          56962.000000  56962.000000\n",
            "mean               0.595983      0.001826\n",
            "std                3.899857      0.042690\n",
            "min                0.013772      0.000000\n",
            "25%                0.119978      0.000000\n",
            "50%                0.226756      0.000000\n",
            "75%                0.412585      0.000000\n",
            "max              446.467195      1.000000\n",
            "Normal Sample        reconstruction_error  true_class\n",
            "count          56858.000000     56858.0\n",
            "mean               0.551320         0.0\n",
            "std                3.529885         0.0\n",
            "min                0.013772         0.0\n",
            "25%                0.119847         0.0\n",
            "50%                0.226394         0.0\n",
            "75%                0.410895         0.0\n",
            "max              446.467195         0.0\n",
            "Fraud Sample        reconstruction_error  true_class\n",
            "count            104.000000       104.0\n",
            "mean              25.013763         1.0\n",
            "std               30.489365         0.0\n",
            "min                0.036603         1.0\n",
            "25%                4.775638         1.0\n",
            "50%               10.258076         1.0\n",
            "75%               28.142868         1.0\n",
            "max              150.064711         1.0\n"
          ]
        }
      ]
    },
    {
      "cell_type": "markdown",
      "source": [
        "## Post Analysis"
      ],
      "metadata": {
        "id": "ASzvIz8WFtrV"
      }
    },
    {
      "cell_type": "code",
      "source": [
        "from sklearn.metrics import (confusion_matrix, precision_recall_curve, auc,\n",
        "                             roc_curve, recall_score, classification_report, f1_score,\n",
        "                             precision_recall_fscore_support)"
      ],
      "metadata": {
        "id": "AaxdUNrVHCVp"
      },
      "execution_count": 19,
      "outputs": []
    },
    {
      "cell_type": "markdown",
      "source": [
        "### (1) Scatter Plot"
      ],
      "metadata": {
        "id": "41U2tYxbGst1"
      }
    },
    {
      "cell_type": "code",
      "source": [
        "# scatter plot\n",
        "threshold = 0.9\n",
        "groups = error_df.groupby('true_class')\n",
        "fig, ax = plt.subplots(figsize=(15, 10))\n",
        "\n",
        "for name, group in groups:\n",
        "    ax.plot(group.index, group.reconstruction_error, marker='o', ms=3.5, linestyle='',\n",
        "            label= \"Fraud\" if name == 1 else \"Normal\")\n",
        "ax.hlines(threshold, ax.get_xlim()[0], ax.get_xlim()[1], colors=\"r\", zorder=100, label='Threshold')\n",
        "ax.legend()\n",
        "plt.title(\"Reconstruction error for different classes\")\n",
        "plt.ylabel(\"Reconstruction error\")\n",
        "plt.xlabel(\"Data point index\")\n",
        "plt.show();"
      ],
      "metadata": {
        "colab": {
          "base_uri": "https://localhost:8080/",
          "height": 621
        },
        "id": "Jkz1XFEUDUwE",
        "outputId": "6efbd70d-3dc5-4d27-f4bd-02a00978429e"
      },
      "execution_count": 20,
      "outputs": [
        {
          "output_type": "display_data",
          "data": {
            "image/png": "[encoded data removed]",
            "text/plain": [
              "<Figure size 1080x720 with 1 Axes>"
            ]
          },
          "metadata": {
            "needs_background": "light"
          }
        }
      ]
    },
    {
      "cell_type": "markdown",
      "source": [
        "### (2) Confusion Matrix"
      ],
      "metadata": {
        "id": "PB7WEcz8Gvlj"
      }
    },
    {
      "cell_type": "code",
      "source": [
        "# confusion matrix\n",
        "threshold = 0.9\n",
        "# And see how well we're dividing the two types of transactions:\n",
        "groups = error_df.groupby('true_class')\n",
        "# predict fraud\n",
        "y_pred = [1 if e > threshold else 0 for e in error_df.reconstruction_error.values]\n",
        "conf_matrix = confusion_matrix(error_df.true_class, y_pred)\n",
        "# plot confusion matrix\n",
        "plt.figure(figsize=(8, 8))\n",
        "sns.heatmap(conf_matrix, xticklabels=LABELS, yticklabels=LABELS, annot=True, fmt=\"d\");\n",
        "plt.title(\"Confusion matrix\")\n",
        "plt.ylabel('True Class')\n",
        "plt.xlabel('Predicted Class')\n",
        "plt.show()"
      ],
      "metadata": {
        "colab": {
          "base_uri": "https://localhost:8080/",
          "height": 513
        },
        "id": "xEgxfBQvDUy_",
        "outputId": "c532f08f-f242-421b-85d2-31f44422ef91"
      },
      "execution_count": 21,
      "outputs": [
        {
          "output_type": "display_data",
          "data": {
            "image/png": "[encoded data removed]",
            "text/plain": [
              "<Figure size 576x576 with 2 Axes>"
            ]
          },
          "metadata": {
            "needs_background": "light"
          }
        }
      ]
    },
    {
      "cell_type": "markdown",
      "source": [
        "### (3) ROC Curve"
      ],
      "metadata": {
        "id": "4JJW59VKHI65"
      }
    },
    {
      "cell_type": "code",
      "source": [
        "# ROC\n",
        "fpr, tpr, thresholds = roc_curve(error_df.true_class, error_df.reconstruction_error)\n",
        "roc_auc = auc(fpr, tpr)\n",
        "# plot\n",
        "plt.title('Receiver Operating Characteristic')\n",
        "plt.plot(fpr, tpr, label='AUC = %0.4f'% roc_auc)\n",
        "plt.legend(loc='lower right')\n",
        "plt.plot([0,1],[0,1],'r--')\n",
        "plt.xlim([-0.001, 1])\n",
        "plt.ylim([0, 1.001])\n",
        "plt.ylabel('True Positive Rate')\n",
        "plt.xlabel('False Positive Rate')\n",
        "plt.show();"
      ],
      "metadata": {
        "colab": {
          "base_uri": "https://localhost:8080/",
          "height": 295
        },
        "id": "0WuqIHdNHJFb",
        "outputId": "f45c157c-2d47-4c5e-fcb0-98991ea67e99"
      },
      "execution_count": 22,
      "outputs": [
        {
          "output_type": "display_data",
          "data": {
            "image/png": "[encoded data removed]",
            "text/plain": [
              "<Figure size 432x288 with 1 Axes>"
            ]
          },
          "metadata": {
            "needs_background": "light"
          }
        }
      ]
    },
    {
      "cell_type": "code",
      "source": [
        ""
      ],
      "metadata": {
        "id": "ix21AL9LDU1y"
      },
      "execution_count": null,
      "outputs": []
    }
  ]
}