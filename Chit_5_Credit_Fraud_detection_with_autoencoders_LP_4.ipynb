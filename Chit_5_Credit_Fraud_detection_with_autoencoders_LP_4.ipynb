{
  "nbformat": 4,
  "nbformat_minor": 0,
  "metadata": {
    "colab": {
      "provenance": [],
      "collapsed_sections": [],
      "toc_visible": true,
      "include_colab_link": true
    },
    "kernelspec": {
      "name": "python3",
      "display_name": "Python 3"
    }
  },
  "cells": [
    {
      "cell_type": "markdown",
      "metadata": {
        "id": "view-in-github",
        "colab_type": "text"
      },
      "source": [
        "<a href=\"https://colab.research.google.com/github/adityakangune/IT-LP-4-Codes-/blob/main/Chit_5_Credit_Fraud_detection_with_autoencoders_LP_4.ipynb\" target=\"_parent\"><img src=\"https://colab.research.google.com/assets/colab-badge.svg\" alt=\"Open In Colab\"/></a>"
      ]
    },
    {
      "cell_type": "markdown",
      "source": [
        "# **Chit 5**\n",
        "\n",
        "### *Name:Aditya Kangune*\n",
        "### *Roll number: 43321*\n",
        "### *Batch: P11*"
      ],
      "metadata": {
        "id": "VvwSUZIQBeo8"
      }
    },
    {
      "cell_type": "markdown",
      "source": [
        "*Problem Statement:*\n",
        "\n",
        "    Implement anomaly detection for given credit card dataset using Autoencoder and build the model by using the following steps:\n",
        "    a.\tImport required libraries\n",
        "    b.\tUpload / access the dataset\n",
        "    c.\tEncoder converts it into latent representation\n",
        "    d.\tDecoder networks convert it back to the original input\n",
        "    e.\tCompile the models with Optimizer, Loss, and Evaluation Metrics\n"
      ],
      "metadata": {
        "id": "T9f0RSeUJLP1"
      }
    },
    {
      "cell_type": "markdown",
      "metadata": {
        "id": "iEl3ncgPc0sv"
      },
      "source": [
        "\n",
        "#Credit Card Fraud Detection\n",
        "\n",
        "Example of outlier detection with autoencoders. Dataset https://www.kaggle.com/mlg-ulb/creditcardfraud from Machine Learning Group (http://mlg.ulb.ac.be) of ULB (Université Libre de Bruxelles).\n",
        "\n",
        "It is a highly unbalanced dataset with a very low percetnage of fraudulent credit card transactions. Our purpose is to build a classifier for detecting fraudulent transactions. In this example we will consider them as outliers an will use an autoencoder for detecting them.\n",
        "\n",
        "##Downloading of dataset\n"
      ]
    },
    {
      "cell_type": "code",
      "metadata": {
        "id": "gT2psZNVvB9U",
        "outputId": "2a781f3d-7b0e-4940-e228-0e87063f5f61",
        "colab": {
          "base_uri": "https://localhost:8080/",
          "height": 478
        }
      },
      "source": [
        "!wget -O creditfraud.zip https://www.dropbox.com/s/tl20yp9bcl56oxt/creditcardfraud.zip?dl=0"
      ],
      "execution_count": null,
      "outputs": [
        {
          "output_type": "stream",
          "text": [
            "--2019-11-28 04:07:01--  https://www.dropbox.com/s/tl20yp9bcl56oxt/creditcardfraud.zip?dl=0\n",
            "Resolving www.dropbox.com (www.dropbox.com)... 162.125.1.1, 2620:100:6016:1::a27d:101\n",
            "Connecting to www.dropbox.com (www.dropbox.com)|162.125.1.1|:443... connected.\n",
            "HTTP request sent, awaiting response... 301 Moved Permanently\n",
            "Location: /s/raw/tl20yp9bcl56oxt/creditcardfraud.zip [following]\n",
            "--2019-11-28 04:07:01--  https://www.dropbox.com/s/raw/tl20yp9bcl56oxt/creditcardfraud.zip\n",
            "Reusing existing connection to www.dropbox.com:443.\n",
            "HTTP request sent, awaiting response... 302 Found\n",
            "Location: https://uc00eb81e39e15f3e7eb2a63114c.dl.dropboxusercontent.com/cd/0/inline/AtO36T9HrRh1lv1X4fjHDp-az5GX_fQBx6A61o9S1_nNE-TcE7NM7JZn0DGhfBBlU8mOYfEJHXW3CQtlDePz3MNOWL2idFgKSLncClCeI9wGThnDQolRYxt3iLzCqPRbRHw/file# [following]\n",
            "--2019-11-28 04:07:01--  https://uc00eb81e39e15f3e7eb2a63114c.dl.dropboxusercontent.com/cd/0/inline/AtO36T9HrRh1lv1X4fjHDp-az5GX_fQBx6A61o9S1_nNE-TcE7NM7JZn0DGhfBBlU8mOYfEJHXW3CQtlDePz3MNOWL2idFgKSLncClCeI9wGThnDQolRYxt3iLzCqPRbRHw/file\n",
            "Resolving uc00eb81e39e15f3e7eb2a63114c.dl.dropboxusercontent.com (uc00eb81e39e15f3e7eb2a63114c.dl.dropboxusercontent.com)... 162.125.8.6, 2620:100:601b:6::a27d:806\n",
            "Connecting to uc00eb81e39e15f3e7eb2a63114c.dl.dropboxusercontent.com (uc00eb81e39e15f3e7eb2a63114c.dl.dropboxusercontent.com)|162.125.8.6|:443... connected.\n",
            "HTTP request sent, awaiting response... 302 FOUND\n",
            "Location: /cd/0/inline2/AtN69OIj7nxIMRKGYu4bXMK0az97qwRNlf1BdtnoUMdfvBOwe4NlE4X8bAGjdqxpUEeNZPPD-zrdmrdWRqixpQ4uAwzDKrlTEJMvonwTfMSAYkRCLxCVpsvLJ4mySQcoB6lcgVp_7mq1CB6AHp4V0AW00haAaRi0RIsT87o1s2qUkD6rFz4l9dsf2klpkNASCmWQ4jUQEnACWWupFY3fGlkKrcp3SJFYZV2pO_EvDN6fS9tZxstcPJNzp7wVJg5WJw8f-oQAcfCEMvnT2Lh4Xv_p69nGaqpBexhtxjUupAiQI9AiqrVZ_TxoVbiinkC3xgyqSozlue3zWOKaj0rdApsD4pe_HGQxEoLmgg8a2ctvUQ/file [following]\n",
            "--2019-11-28 04:07:02--  https://uc00eb81e39e15f3e7eb2a63114c.dl.dropboxusercontent.com/cd/0/inline2/AtN69OIj7nxIMRKGYu4bXMK0az97qwRNlf1BdtnoUMdfvBOwe4NlE4X8bAGjdqxpUEeNZPPD-zrdmrdWRqixpQ4uAwzDKrlTEJMvonwTfMSAYkRCLxCVpsvLJ4mySQcoB6lcgVp_7mq1CB6AHp4V0AW00haAaRi0RIsT87o1s2qUkD6rFz4l9dsf2klpkNASCmWQ4jUQEnACWWupFY3fGlkKrcp3SJFYZV2pO_EvDN6fS9tZxstcPJNzp7wVJg5WJw8f-oQAcfCEMvnT2Lh4Xv_p69nGaqpBexhtxjUupAiQI9AiqrVZ_TxoVbiinkC3xgyqSozlue3zWOKaj0rdApsD4pe_HGQxEoLmgg8a2ctvUQ/file\n",
            "Reusing existing connection to uc00eb81e39e15f3e7eb2a63114c.dl.dropboxusercontent.com:443.\n",
            "HTTP request sent, awaiting response... 200 OK\n",
            "Length: 69155672 (66M) [application/zip]\n",
            "Saving to: ‘creditfraud.zip’\n",
            "\n",
            "creditfraud.zip     100%[===================>]  65.95M  45.5MB/s    in 1.4s    \n",
            "\n",
            "2019-11-28 04:07:04 (45.5 MB/s) - ‘creditfraud.zip’ saved [69155672/69155672]\n",
            "\n"
          ],
          "name": "stdout"
        }
      ]
    },
    {
      "cell_type": "code",
      "metadata": {
        "id": "1xqM1qxSvD_b",
        "outputId": "fd7ee9ea-45fe-4541-f214-ef496b71bc9f",
        "colab": {
          "base_uri": "https://localhost:8080/",
          "height": 72
        }
      },
      "source": [
        "!unzip creditfraud.zip"
      ],
      "execution_count": null,
      "outputs": [
        {
          "output_type": "stream",
          "text": [
            "Archive:  creditfraud.zip\n",
            "replace creditcard.csv? [y]es, [n]o, [A]ll, [N]one, [r]ename: y\n",
            "  inflating: creditcard.csv          \n"
          ],
          "name": "stdout"
        }
      ]
    },
    {
      "cell_type": "markdown",
      "metadata": {
        "id": "3OV8v985dDi6"
      },
      "source": [
        "##Loading libraries"
      ]
    },
    {
      "cell_type": "code",
      "metadata": {
        "id": "C-vN7SvXvMs5",
        "outputId": "d0c3b824-37dc-41ee-f53f-33d3aed20442",
        "colab": {
          "base_uri": "https://localhost:8080/",
          "height": 83
        }
      },
      "source": [
        "import pandas as pd\n",
        "import numpy as np\n",
        "import seaborn as sns\n",
        "import matplotlib.pyplot as plt \n",
        "import matplotlib.ticker as ticker\n",
        "from sklearn.model_selection import train_test_split\n",
        "from sklearn.linear_model import LogisticRegression\n",
        "from sklearn import metrics\n",
        "from sklearn.preprocessing import StandardScaler\n",
        "from keras.models import Model, load_model\n",
        "from keras.layers import Input, Dense"
      ],
      "execution_count": null,
      "outputs": [
        {
          "output_type": "stream",
          "text": [
            "Using TensorFlow backend.\n"
          ],
          "name": "stderr"
        },
        {
          "output_type": "display_data",
          "data": {
            "text/html": [
              "<p style=\"color: red;\">\n",
              "The default version of TensorFlow in Colab will soon switch to TensorFlow 2.x.<br>\n",
              "We recommend you <a href=\"https://www.tensorflow.org/guide/migrate\" target=\"_blank\">upgrade</a> now \n",
              "or ensure your notebook will continue to use TensorFlow 1.x via the <code>%tensorflow_version 1.x</code> magic:\n",
              "<a href=\"https://colab.research.google.com/notebooks/tensorflow_version.ipynb\" target=\"_blank\">more info</a>.</p>\n"
            ],
            "text/plain": [
              "<IPython.core.display.HTML object>"
            ]
          },
          "metadata": {
            "tags": []
          }
        }
      ]
    },
    {
      "cell_type": "markdown",
      "metadata": {
        "id": "Fp9PNETFd2G4"
      },
      "source": [
        "##Loading dataset in Python and taking a first look"
      ]
    },
    {
      "cell_type": "code",
      "metadata": {
        "id": "NMVr2-hzvlID",
        "outputId": "c5d8f7c4-825b-40fd-cbb7-edc9a05804c4",
        "colab": {
          "base_uri": "https://localhost:8080/",
          "height": 226
        }
      },
      "source": [
        "dat=pd.read_csv('creditcard.csv')\n",
        "dat.head()"
      ],
      "execution_count": null,
      "outputs": [
        {
          "output_type": "execute_result",
          "data": {
            "text/html": [
              "<div>\n",
              "<style scoped>\n",
              "    .dataframe tbody tr th:only-of-type {\n",
              "        vertical-align: middle;\n",
              "    }\n",
              "\n",
              "    .dataframe tbody tr th {\n",
              "        vertical-align: top;\n",
              "    }\n",
              "\n",
              "    .dataframe thead th {\n",
              "        text-align: right;\n",
              "    }\n",
              "</style>\n",
              "<table border=\"1\" class=\"dataframe\">\n",
              "  <thead>\n",
              "    <tr style=\"text-align: right;\">\n",
              "      <th></th>\n",
              "      <th>Time</th>\n",
              "      <th>V1</th>\n",
              "      <th>V2</th>\n",
              "      <th>V3</th>\n",
              "      <th>V4</th>\n",
              "      <th>V5</th>\n",
              "      <th>V6</th>\n",
              "      <th>V7</th>\n",
              "      <th>V8</th>\n",
              "      <th>V9</th>\n",
              "      <th>V10</th>\n",
              "      <th>V11</th>\n",
              "      <th>V12</th>\n",
              "      <th>V13</th>\n",
              "      <th>V14</th>\n",
              "      <th>V15</th>\n",
              "      <th>V16</th>\n",
              "      <th>V17</th>\n",
              "      <th>V18</th>\n",
              "      <th>V19</th>\n",
              "      <th>V20</th>\n",
              "      <th>V21</th>\n",
              "      <th>V22</th>\n",
              "      <th>V23</th>\n",
              "      <th>V24</th>\n",
              "      <th>V25</th>\n",
              "      <th>V26</th>\n",
              "      <th>V27</th>\n",
              "      <th>V28</th>\n",
              "      <th>Amount</th>\n",
              "      <th>Class</th>\n",
              "    </tr>\n",
              "  </thead>\n",
              "  <tbody>\n",
              "    <tr>\n",
              "      <th>0</th>\n",
              "      <td>0.0</td>\n",
              "      <td>-1.359807</td>\n",
              "      <td>-0.072781</td>\n",
              "      <td>2.536347</td>\n",
              "      <td>1.378155</td>\n",
              "      <td>-0.338321</td>\n",
              "      <td>0.462388</td>\n",
              "      <td>0.239599</td>\n",
              "      <td>0.098698</td>\n",
              "      <td>0.363787</td>\n",
              "      <td>0.090794</td>\n",
              "      <td>-0.551600</td>\n",
              "      <td>-0.617801</td>\n",
              "      <td>-0.991390</td>\n",
              "      <td>-0.311169</td>\n",
              "      <td>1.468177</td>\n",
              "      <td>-0.470401</td>\n",
              "      <td>0.207971</td>\n",
              "      <td>0.025791</td>\n",
              "      <td>0.403993</td>\n",
              "      <td>0.251412</td>\n",
              "      <td>-0.018307</td>\n",
              "      <td>0.277838</td>\n",
              "      <td>-0.110474</td>\n",
              "      <td>0.066928</td>\n",
              "      <td>0.128539</td>\n",
              "      <td>-0.189115</td>\n",
              "      <td>0.133558</td>\n",
              "      <td>-0.021053</td>\n",
              "      <td>149.62</td>\n",
              "      <td>0</td>\n",
              "    </tr>\n",
              "    <tr>\n",
              "      <th>1</th>\n",
              "      <td>0.0</td>\n",
              "      <td>1.191857</td>\n",
              "      <td>0.266151</td>\n",
              "      <td>0.166480</td>\n",
              "      <td>0.448154</td>\n",
              "      <td>0.060018</td>\n",
              "      <td>-0.082361</td>\n",
              "      <td>-0.078803</td>\n",
              "      <td>0.085102</td>\n",
              "      <td>-0.255425</td>\n",
              "      <td>-0.166974</td>\n",
              "      <td>1.612727</td>\n",
              "      <td>1.065235</td>\n",
              "      <td>0.489095</td>\n",
              "      <td>-0.143772</td>\n",
              "      <td>0.635558</td>\n",
              "      <td>0.463917</td>\n",
              "      <td>-0.114805</td>\n",
              "      <td>-0.183361</td>\n",
              "      <td>-0.145783</td>\n",
              "      <td>-0.069083</td>\n",
              "      <td>-0.225775</td>\n",
              "      <td>-0.638672</td>\n",
              "      <td>0.101288</td>\n",
              "      <td>-0.339846</td>\n",
              "      <td>0.167170</td>\n",
              "      <td>0.125895</td>\n",
              "      <td>-0.008983</td>\n",
              "      <td>0.014724</td>\n",
              "      <td>2.69</td>\n",
              "      <td>0</td>\n",
              "    </tr>\n",
              "    <tr>\n",
              "      <th>2</th>\n",
              "      <td>1.0</td>\n",
              "      <td>-1.358354</td>\n",
              "      <td>-1.340163</td>\n",
              "      <td>1.773209</td>\n",
              "      <td>0.379780</td>\n",
              "      <td>-0.503198</td>\n",
              "      <td>1.800499</td>\n",
              "      <td>0.791461</td>\n",
              "      <td>0.247676</td>\n",
              "      <td>-1.514654</td>\n",
              "      <td>0.207643</td>\n",
              "      <td>0.624501</td>\n",
              "      <td>0.066084</td>\n",
              "      <td>0.717293</td>\n",
              "      <td>-0.165946</td>\n",
              "      <td>2.345865</td>\n",
              "      <td>-2.890083</td>\n",
              "      <td>1.109969</td>\n",
              "      <td>-0.121359</td>\n",
              "      <td>-2.261857</td>\n",
              "      <td>0.524980</td>\n",
              "      <td>0.247998</td>\n",
              "      <td>0.771679</td>\n",
              "      <td>0.909412</td>\n",
              "      <td>-0.689281</td>\n",
              "      <td>-0.327642</td>\n",
              "      <td>-0.139097</td>\n",
              "      <td>-0.055353</td>\n",
              "      <td>-0.059752</td>\n",
              "      <td>378.66</td>\n",
              "      <td>0</td>\n",
              "    </tr>\n",
              "    <tr>\n",
              "      <th>3</th>\n",
              "      <td>1.0</td>\n",
              "      <td>-0.966272</td>\n",
              "      <td>-0.185226</td>\n",
              "      <td>1.792993</td>\n",
              "      <td>-0.863291</td>\n",
              "      <td>-0.010309</td>\n",
              "      <td>1.247203</td>\n",
              "      <td>0.237609</td>\n",
              "      <td>0.377436</td>\n",
              "      <td>-1.387024</td>\n",
              "      <td>-0.054952</td>\n",
              "      <td>-0.226487</td>\n",
              "      <td>0.178228</td>\n",
              "      <td>0.507757</td>\n",
              "      <td>-0.287924</td>\n",
              "      <td>-0.631418</td>\n",
              "      <td>-1.059647</td>\n",
              "      <td>-0.684093</td>\n",
              "      <td>1.965775</td>\n",
              "      <td>-1.232622</td>\n",
              "      <td>-0.208038</td>\n",
              "      <td>-0.108300</td>\n",
              "      <td>0.005274</td>\n",
              "      <td>-0.190321</td>\n",
              "      <td>-1.175575</td>\n",
              "      <td>0.647376</td>\n",
              "      <td>-0.221929</td>\n",
              "      <td>0.062723</td>\n",
              "      <td>0.061458</td>\n",
              "      <td>123.50</td>\n",
              "      <td>0</td>\n",
              "    </tr>\n",
              "    <tr>\n",
              "      <th>4</th>\n",
              "      <td>2.0</td>\n",
              "      <td>-1.158233</td>\n",
              "      <td>0.877737</td>\n",
              "      <td>1.548718</td>\n",
              "      <td>0.403034</td>\n",
              "      <td>-0.407193</td>\n",
              "      <td>0.095921</td>\n",
              "      <td>0.592941</td>\n",
              "      <td>-0.270533</td>\n",
              "      <td>0.817739</td>\n",
              "      <td>0.753074</td>\n",
              "      <td>-0.822843</td>\n",
              "      <td>0.538196</td>\n",
              "      <td>1.345852</td>\n",
              "      <td>-1.119670</td>\n",
              "      <td>0.175121</td>\n",
              "      <td>-0.451449</td>\n",
              "      <td>-0.237033</td>\n",
              "      <td>-0.038195</td>\n",
              "      <td>0.803487</td>\n",
              "      <td>0.408542</td>\n",
              "      <td>-0.009431</td>\n",
              "      <td>0.798278</td>\n",
              "      <td>-0.137458</td>\n",
              "      <td>0.141267</td>\n",
              "      <td>-0.206010</td>\n",
              "      <td>0.502292</td>\n",
              "      <td>0.219422</td>\n",
              "      <td>0.215153</td>\n",
              "      <td>69.99</td>\n",
              "      <td>0</td>\n",
              "    </tr>\n",
              "  </tbody>\n",
              "</table>\n",
              "</div>"
            ],
            "text/plain": [
              "   Time        V1        V2        V3  ...       V27       V28  Amount  Class\n",
              "0   0.0 -1.359807 -0.072781  2.536347  ...  0.133558 -0.021053  149.62      0\n",
              "1   0.0  1.191857  0.266151  0.166480  ... -0.008983  0.014724    2.69      0\n",
              "2   1.0 -1.358354 -1.340163  1.773209  ... -0.055353 -0.059752  378.66      0\n",
              "3   1.0 -0.966272 -0.185226  1.792993  ...  0.062723  0.061458  123.50      0\n",
              "4   2.0 -1.158233  0.877737  1.548718  ...  0.219422  0.215153   69.99      0\n",
              "\n",
              "[5 rows x 31 columns]"
            ]
          },
          "metadata": {
            "tags": []
          },
          "execution_count": 4
        }
      ]
    },
    {
      "cell_type": "markdown",
      "metadata": {
        "id": "5Y0a-xNMeDEA"
      },
      "source": [
        "The dataset is highly unbalanced with very few fraudulent credit cards"
      ]
    },
    {
      "cell_type": "code",
      "metadata": {
        "id": "l3TwIbGCvmz9",
        "outputId": "1846477b-f926-4228-abe7-50146d09f04d",
        "colab": {
          "base_uri": "https://localhost:8080/",
          "height": 72
        }
      },
      "source": [
        "dat['Class'].value_counts()/dat['Class'].count()"
      ],
      "execution_count": null,
      "outputs": [
        {
          "output_type": "execute_result",
          "data": {
            "text/plain": [
              "0    0.998273\n",
              "1    0.001727\n",
              "Name: Class, dtype: float64"
            ]
          },
          "metadata": {
            "tags": []
          },
          "execution_count": 5
        }
      ]
    },
    {
      "cell_type": "code",
      "metadata": {
        "id": "L4KRErdPvt1A",
        "outputId": "95e08e75-11e6-47f8-c377-4d3e7895728d",
        "colab": {
          "base_uri": "https://localhost:8080/",
          "height": 297
        }
      },
      "source": [
        "sns.countplot(x='Class',data=dat)"
      ],
      "execution_count": null,
      "outputs": [
        {
          "output_type": "execute_result",
          "data": {
            "text/plain": [
              "<matplotlib.axes._subplots.AxesSubplot at 0x7f343caa49e8>"
            ]
          },
          "metadata": {
            "tags": []
          },
          "execution_count": 6
        },
        {
          "output_type": "display_data",
          "data": {
            "image/png": "[encoded data removed]",
            "text/plain": [
              "<Figure size 432x288 with 1 Axes>"
            ]
          },
          "metadata": {
            "tags": []
          }
        }
      ]
    },
    {
      "cell_type": "code",
      "metadata": {
        "id": "wDJt4sXDvxzb"
      },
      "source": [
        "dat = dat.drop([ 'Time'], 1)\n",
        "dat['Amount'] = StandardScaler().fit_transform(dat['Amount'].values.reshape(-1, 1))"
      ],
      "execution_count": null,
      "outputs": []
    },
    {
      "cell_type": "markdown",
      "metadata": {
        "id": "2vTh-X3beLk_"
      },
      "source": [
        "Splitting into train and test datasets"
      ]
    },
    {
      "cell_type": "code",
      "metadata": {
        "id": "1T3X-3wFv001"
      },
      "source": [
        "X_train, X_test, y_train, y_test = train_test_split(dat.drop('Class',1) , dat['Class'], test_size=0.5, random_state=0)"
      ],
      "execution_count": null,
      "outputs": []
    },
    {
      "cell_type": "code",
      "metadata": {
        "id": "ooXM9UEwv3QX",
        "outputId": "0de04af5-f7fc-4d25-a8ed-1b349703a8ef",
        "colab": {
          "base_uri": "https://localhost:8080/",
          "height": 72
        }
      },
      "source": [
        "y_test.value_counts()/y_test.count()"
      ],
      "execution_count": null,
      "outputs": [
        {
          "output_type": "execute_result",
          "data": {
            "text/plain": [
              "0    0.998294\n",
              "1    0.001706\n",
              "Name: Class, dtype: float64"
            ]
          },
          "metadata": {
            "tags": []
          },
          "execution_count": 9
        }
      ]
    },
    {
      "cell_type": "code",
      "metadata": {
        "id": "K3YUftDjv5z-",
        "outputId": "247b9428-51e2-4c19-b3ac-398955f36455",
        "colab": {
          "base_uri": "https://localhost:8080/",
          "height": 72
        }
      },
      "source": [
        "y_train.value_counts()/y_train.count()"
      ],
      "execution_count": null,
      "outputs": [
        {
          "output_type": "execute_result",
          "data": {
            "text/plain": [
              "0    0.998251\n",
              "1    0.001749\n",
              "Name: Class, dtype: float64"
            ]
          },
          "metadata": {
            "tags": []
          },
          "execution_count": 10
        }
      ]
    },
    {
      "cell_type": "markdown",
      "metadata": {
        "id": "otvOl-HcevoG"
      },
      "source": [
        "##First method: using autoencoder's regression error"
      ]
    },
    {
      "cell_type": "markdown",
      "metadata": {
        "id": "xPpRAl0TeQR8"
      },
      "source": [
        "For our first example we will train our autoencoder only on non fraudulent cases"
      ]
    },
    {
      "cell_type": "code",
      "metadata": {
        "id": "mMzBdaAdv7rE"
      },
      "source": [
        "X_train_normal = X_train[y_train==0]\n",
        "X_train_fraud = X_train[y_train==1]"
      ],
      "execution_count": null,
      "outputs": []
    },
    {
      "cell_type": "markdown",
      "metadata": {
        "id": "CbX1U5aheSla"
      },
      "source": [
        "Building an autoencoder with\n",
        "- an input layer with 29 neurons,\n",
        "- a hidden layer with 12 neurons,\n",
        "- an output layer with 29 neurons"
      ]
    },
    {
      "cell_type": "code",
      "metadata": {
        "id": "euBPgiamw2R6",
        "outputId": "afd64cdc-dcf4-4595-9496-cc3b0d89fa0d",
        "colab": {
          "base_uri": "https://localhost:8080/",
          "height": 147
        }
      },
      "source": [
        "input_layer = Input(shape=(29, ))\n",
        "encoded = Dense(12,activation='tanh')(input_layer)\n",
        "decoded = Dense(29,activation='sigmoid')(encoded)\n",
        "autoencoder = Model(input_layer,decoded)"
      ],
      "execution_count": null,
      "outputs": [
        {
          "output_type": "stream",
          "text": [
            "WARNING:tensorflow:From /usr/local/lib/python3.6/dist-packages/keras/backend/tensorflow_backend.py:66: The name tf.get_default_graph is deprecated. Please use tf.compat.v1.get_default_graph instead.\n",
            "\n",
            "WARNING:tensorflow:From /usr/local/lib/python3.6/dist-packages/keras/backend/tensorflow_backend.py:541: The name tf.placeholder is deprecated. Please use tf.compat.v1.placeholder instead.\n",
            "\n",
            "WARNING:tensorflow:From /usr/local/lib/python3.6/dist-packages/keras/backend/tensorflow_backend.py:4432: The name tf.random_uniform is deprecated. Please use tf.random.uniform instead.\n",
            "\n"
          ],
          "name": "stdout"
        }
      ]
    },
    {
      "cell_type": "code",
      "metadata": {
        "id": "fY42GWDWyoxL",
        "outputId": "ba09f0c7-e251-47c0-a269-f4af57513e33",
        "colab": {
          "base_uri": "https://localhost:8080/",
          "height": 54
        }
      },
      "source": [
        "autoencoder.compile(optimizer='adam',loss='mean_squared_error')"
      ],
      "execution_count": null,
      "outputs": [
        {
          "output_type": "stream",
          "text": [
            "WARNING:tensorflow:From /usr/local/lib/python3.6/dist-packages/keras/optimizers.py:793: The name tf.train.Optimizer is deprecated. Please use tf.compat.v1.train.Optimizer instead.\n",
            "\n"
          ],
          "name": "stdout"
        }
      ]
    },
    {
      "cell_type": "code",
      "metadata": {
        "id": "ZC2j3eXJxM-B",
        "outputId": "87fb0776-1173-4a98-cd16-dd8da40fae7a",
        "colab": {
          "base_uri": "https://localhost:8080/",
          "height": 1000
        }
      },
      "source": [
        "autoencoder.fit(X_train_normal, X_train_normal, epochs = 100, batch_size=128,\n",
        "validation_data=(X_train_normal,X_train_normal))"
      ],
      "execution_count": null,
      "outputs": [
        {
          "output_type": "stream",
          "text": [
            "WARNING:tensorflow:From /usr/local/lib/python3.6/dist-packages/keras/backend/tensorflow_backend.py:1033: The name tf.assign_add is deprecated. Please use tf.compat.v1.assign_add instead.\n",
            "\n",
            "WARNING:tensorflow:From /usr/local/lib/python3.6/dist-packages/keras/backend/tensorflow_backend.py:1020: The name tf.assign is deprecated. Please use tf.compat.v1.assign instead.\n",
            "\n",
            "WARNING:tensorflow:From /usr/local/lib/python3.6/dist-packages/keras/backend/tensorflow_backend.py:3005: The name tf.Session is deprecated. Please use tf.compat.v1.Session instead.\n",
            "\n",
            "Train on 142154 samples, validate on 142154 samples\n",
            "Epoch 1/100\n",
            "WARNING:tensorflow:From /usr/local/lib/python3.6/dist-packages/keras/backend/tensorflow_backend.py:190: The name tf.get_default_session is deprecated. Please use tf.compat.v1.get_default_session instead.\n",
            "\n",
            "WARNING:tensorflow:From /usr/local/lib/python3.6/dist-packages/keras/backend/tensorflow_backend.py:197: The name tf.ConfigProto is deprecated. Please use tf.compat.v1.ConfigProto instead.\n",
            "\n",
            "WARNING:tensorflow:From /usr/local/lib/python3.6/dist-packages/keras/backend/tensorflow_backend.py:207: The name tf.global_variables is deprecated. Please use tf.compat.v1.global_variables instead.\n",
            "\n",
            "WARNING:tensorflow:From /usr/local/lib/python3.6/dist-packages/keras/backend/tensorflow_backend.py:216: The name tf.is_variable_initialized is deprecated. Please use tf.compat.v1.is_variable_initialized instead.\n",
            "\n",
            "WARNING:tensorflow:From /usr/local/lib/python3.6/dist-packages/keras/backend/tensorflow_backend.py:223: The name tf.variables_initializer is deprecated. Please use tf.compat.v1.variables_initializer instead.\n",
            "\n",
            "142154/142154 [==============================] - 3s 18us/step - loss: 0.9911 - val_loss: 0.8843\n",
            "Epoch 2/100\n",
            "142154/142154 [==============================] - 2s 16us/step - loss: 0.8598 - val_loss: 0.8426\n",
            "Epoch 3/100\n",
            "142154/142154 [==============================] - 2s 16us/step - loss: 0.8328 - val_loss: 0.8244\n",
            "Epoch 4/100\n",
            "142154/142154 [==============================] - 2s 16us/step - loss: 0.8182 - val_loss: 0.8125\n",
            "Epoch 5/100\n",
            "142154/142154 [==============================] - 2s 17us/step - loss: 0.8080 - val_loss: 0.8037\n",
            "Epoch 6/100\n",
            "142154/142154 [==============================] - 2s 17us/step - loss: 0.8004 - val_loss: 0.7972\n",
            "Epoch 7/100\n",
            "142154/142154 [==============================] - 2s 17us/step - loss: 0.7946 - val_loss: 0.7921\n",
            "Epoch 8/100\n",
            "142154/142154 [==============================] - 3s 18us/step - loss: 0.7903 - val_loss: 0.7885\n",
            "Epoch 9/100\n",
            "142154/142154 [==============================] - 3s 19us/step - loss: 0.7870 - val_loss: 0.7855\n",
            "Epoch 10/100\n",
            "142154/142154 [==============================] - 3s 18us/step - loss: 0.7844 - val_loss: 0.7834\n",
            "Epoch 11/100\n",
            "142154/142154 [==============================] - 3s 20us/step - loss: 0.7824 - val_loss: 0.7815\n",
            "Epoch 12/100\n",
            "142154/142154 [==============================] - 2s 17us/step - loss: 0.7809 - val_loss: 0.7801\n",
            "Epoch 13/100\n",
            "142154/142154 [==============================] - 2s 17us/step - loss: 0.7796 - val_loss: 0.7790\n",
            "Epoch 14/100\n",
            "142154/142154 [==============================] - 2s 17us/step - loss: 0.7786 - val_loss: 0.7781\n",
            "Epoch 15/100\n",
            "142154/142154 [==============================] - 2s 17us/step - loss: 0.7776 - val_loss: 0.7773\n",
            "Epoch 16/100\n",
            "142154/142154 [==============================] - 2s 17us/step - loss: 0.7769 - val_loss: 0.7765\n",
            "Epoch 17/100\n",
            "142154/142154 [==============================] - 2s 17us/step - loss: 0.7762 - val_loss: 0.7759\n",
            "Epoch 18/100\n",
            "142154/142154 [==============================] - 2s 17us/step - loss: 0.7756 - val_loss: 0.7755\n",
            "Epoch 19/100\n",
            "142154/142154 [==============================] - 2s 17us/step - loss: 0.7750 - val_loss: 0.7748\n",
            "Epoch 20/100\n",
            "142154/142154 [==============================] - 2s 17us/step - loss: 0.7745 - val_loss: 0.7742\n",
            "Epoch 21/100\n",
            "142154/142154 [==============================] - 2s 17us/step - loss: 0.7741 - val_loss: 0.7738\n",
            "Epoch 22/100\n",
            "142154/142154 [==============================] - 2s 17us/step - loss: 0.7736 - val_loss: 0.7732\n",
            "Epoch 23/100\n",
            "142154/142154 [==============================] - 2s 17us/step - loss: 0.7733 - val_loss: 0.7728\n",
            "Epoch 24/100\n",
            "142154/142154 [==============================] - 2s 17us/step - loss: 0.7729 - val_loss: 0.7727\n",
            "Epoch 25/100\n",
            "142154/142154 [==============================] - 2s 17us/step - loss: 0.7725 - val_loss: 0.7724\n",
            "Epoch 26/100\n",
            "142154/142154 [==============================] - 2s 16us/step - loss: 0.7723 - val_loss: 0.7720\n",
            "Epoch 27/100\n",
            "142154/142154 [==============================] - 2s 17us/step - loss: 0.7721 - val_loss: 0.7719\n",
            "Epoch 28/100\n",
            "142154/142154 [==============================] - 2s 16us/step - loss: 0.7719 - val_loss: 0.7718\n",
            "Epoch 29/100\n",
            "142154/142154 [==============================] - 2s 17us/step - loss: 0.7716 - val_loss: 0.7715\n",
            "Epoch 30/100\n",
            "142154/142154 [==============================] - 2s 17us/step - loss: 0.7715 - val_loss: 0.7715\n",
            "Epoch 31/100\n",
            "142154/142154 [==============================] - 2s 17us/step - loss: 0.7712 - val_loss: 0.7711\n",
            "Epoch 32/100\n",
            "142154/142154 [==============================] - 2s 17us/step - loss: 0.7711 - val_loss: 0.7713\n",
            "Epoch 33/100\n",
            "142154/142154 [==============================] - 2s 17us/step - loss: 0.7710 - val_loss: 0.7707\n",
            "Epoch 34/100\n",
            "142154/142154 [==============================] - 2s 17us/step - loss: 0.7708 - val_loss: 0.7708\n",
            "Epoch 35/100\n",
            "142154/142154 [==============================] - 2s 17us/step - loss: 0.7706 - val_loss: 0.7706\n",
            "Epoch 36/100\n",
            "142154/142154 [==============================] - 2s 17us/step - loss: 0.7705 - val_loss: 0.7705\n",
            "Epoch 37/100\n",
            "142154/142154 [==============================] - 2s 17us/step - loss: 0.7704 - val_loss: 0.7704\n",
            "Epoch 38/100\n",
            "142154/142154 [==============================] - 2s 17us/step - loss: 0.7703 - val_loss: 0.7705\n",
            "Epoch 39/100\n",
            "142154/142154 [==============================] - 2s 17us/step - loss: 0.7703 - val_loss: 0.7701\n",
            "Epoch 40/100\n",
            "142154/142154 [==============================] - 3s 18us/step - loss: 0.7701 - val_loss: 0.7702\n",
            "Epoch 41/100\n",
            "142154/142154 [==============================] - 2s 17us/step - loss: 0.7701 - val_loss: 0.7698\n",
            "Epoch 42/100\n",
            "142154/142154 [==============================] - 3s 18us/step - loss: 0.7699 - val_loss: 0.7698\n",
            "Epoch 43/100\n",
            "142154/142154 [==============================] - 2s 17us/step - loss: 0.7699 - val_loss: 0.7698\n",
            "Epoch 44/100\n",
            "142154/142154 [==============================] - 2s 17us/step - loss: 0.7699 - val_loss: 0.7700\n",
            "Epoch 45/100\n",
            "142154/142154 [==============================] - 2s 17us/step - loss: 0.7698 - val_loss: 0.7695\n",
            "Epoch 46/100\n",
            "142154/142154 [==============================] - 2s 17us/step - loss: 0.7696 - val_loss: 0.7699\n",
            "Epoch 47/100\n",
            "142154/142154 [==============================] - 3s 18us/step - loss: 0.7696 - val_loss: 0.7693\n",
            "Epoch 48/100\n",
            "142154/142154 [==============================] - 3s 18us/step - loss: 0.7695 - val_loss: 0.7694\n",
            "Epoch 49/100\n",
            "142154/142154 [==============================] - 3s 18us/step - loss: 0.7694 - val_loss: 0.7698\n",
            "Epoch 50/100\n",
            "142154/142154 [==============================] - 3s 18us/step - loss: 0.7694 - val_loss: 0.7691\n",
            "Epoch 51/100\n",
            "142154/142154 [==============================] - 3s 18us/step - loss: 0.7693 - val_loss: 0.7694\n",
            "Epoch 52/100\n",
            "142154/142154 [==============================] - 2s 17us/step - loss: 0.7693 - val_loss: 0.7693\n",
            "Epoch 53/100\n",
            "142154/142154 [==============================] - 2s 17us/step - loss: 0.7692 - val_loss: 0.7692\n",
            "Epoch 54/100\n",
            "142154/142154 [==============================] - 2s 17us/step - loss: 0.7691 - val_loss: 0.7691\n",
            "Epoch 55/100\n",
            "142154/142154 [==============================] - 2s 17us/step - loss: 0.7692 - val_loss: 0.7689\n",
            "Epoch 56/100\n",
            "142154/142154 [==============================] - 2s 17us/step - loss: 0.7691 - val_loss: 0.7689\n",
            "Epoch 57/100\n",
            "142154/142154 [==============================] - 2s 17us/step - loss: 0.7690 - val_loss: 0.7691\n",
            "Epoch 58/100\n",
            "142154/142154 [==============================] - 2s 17us/step - loss: 0.7689 - val_loss: 0.7690\n",
            "Epoch 59/100\n",
            "142154/142154 [==============================] - 2s 17us/step - loss: 0.7689 - val_loss: 0.7688\n",
            "Epoch 60/100\n",
            "142154/142154 [==============================] - 2s 16us/step - loss: 0.7689 - val_loss: 0.7687\n",
            "Epoch 61/100\n",
            "142154/142154 [==============================] - 2s 17us/step - loss: 0.7688 - val_loss: 0.7687\n",
            "Epoch 62/100\n",
            "142154/142154 [==============================] - 2s 17us/step - loss: 0.7688 - val_loss: 0.7686\n",
            "Epoch 63/100\n",
            "142154/142154 [==============================] - 2s 16us/step - loss: 0.7688 - val_loss: 0.7686\n",
            "Epoch 64/100\n",
            "142154/142154 [==============================] - 3s 18us/step - loss: 0.7687 - val_loss: 0.7685\n",
            "Epoch 65/100\n",
            "142154/142154 [==============================] - 2s 17us/step - loss: 0.7687 - val_loss: 0.7685\n",
            "Epoch 66/100\n",
            "142154/142154 [==============================] - 2s 17us/step - loss: 0.7687 - val_loss: 0.7689\n",
            "Epoch 67/100\n",
            "142154/142154 [==============================] - 2s 17us/step - loss: 0.7687 - val_loss: 0.7684\n",
            "Epoch 68/100\n",
            "142154/142154 [==============================] - 2s 17us/step - loss: 0.7686 - val_loss: 0.7685\n",
            "Epoch 69/100\n",
            "142154/142154 [==============================] - 2s 17us/step - loss: 0.7686 - val_loss: 0.7683\n",
            "Epoch 70/100\n",
            "142154/142154 [==============================] - 2s 16us/step - loss: 0.7685 - val_loss: 0.7687\n",
            "Epoch 71/100\n",
            "142154/142154 [==============================] - 2s 17us/step - loss: 0.7685 - val_loss: 0.7683\n",
            "Epoch 72/100\n",
            "142154/142154 [==============================] - 2s 17us/step - loss: 0.7685 - val_loss: 0.7690\n",
            "Epoch 73/100\n",
            "142154/142154 [==============================] - 2s 16us/step - loss: 0.7685 - val_loss: 0.7685\n",
            "Epoch 74/100\n",
            "142154/142154 [==============================] - 2s 17us/step - loss: 0.7684 - val_loss: 0.7688\n",
            "Epoch 75/100\n",
            "142154/142154 [==============================] - 2s 17us/step - loss: 0.7685 - val_loss: 0.7684\n",
            "Epoch 76/100\n",
            "142154/142154 [==============================] - 2s 17us/step - loss: 0.7683 - val_loss: 0.7682\n",
            "Epoch 77/100\n",
            "142154/142154 [==============================] - 2s 17us/step - loss: 0.7683 - val_loss: 0.7684\n",
            "Epoch 78/100\n",
            "142154/142154 [==============================] - 2s 17us/step - loss: 0.7683 - val_loss: 0.7681\n",
            "Epoch 79/100\n",
            "142154/142154 [==============================] - 2s 17us/step - loss: 0.7683 - val_loss: 0.7682\n",
            "Epoch 80/100\n",
            "142154/142154 [==============================] - 2s 17us/step - loss: 0.7683 - val_loss: 0.7684\n",
            "Epoch 81/100\n",
            "142154/142154 [==============================] - 2s 16us/step - loss: 0.7682 - val_loss: 0.7681\n",
            "Epoch 82/100\n",
            "142154/142154 [==============================] - 2s 17us/step - loss: 0.7682 - val_loss: 0.7680\n",
            "Epoch 83/100\n",
            "142154/142154 [==============================] - 2s 17us/step - loss: 0.7681 - val_loss: 0.7680\n",
            "Epoch 84/100\n",
            "142154/142154 [==============================] - 2s 17us/step - loss: 0.7682 - val_loss: 0.7682\n",
            "Epoch 85/100\n",
            "142154/142154 [==============================] - 2s 17us/step - loss: 0.7682 - val_loss: 0.7681\n",
            "Epoch 86/100\n",
            "142154/142154 [==============================] - 2s 17us/step - loss: 0.7681 - val_loss: 0.7680\n",
            "Epoch 87/100\n",
            "142154/142154 [==============================] - 2s 17us/step - loss: 0.7681 - val_loss: 0.7679\n",
            "Epoch 88/100\n",
            "142154/142154 [==============================] - 2s 17us/step - loss: 0.7680 - val_loss: 0.7692\n",
            "Epoch 89/100\n",
            "142154/142154 [==============================] - 2s 17us/step - loss: 0.7681 - val_loss: 0.7679\n",
            "Epoch 90/100\n",
            "142154/142154 [==============================] - 2s 17us/step - loss: 0.7679 - val_loss: 0.7682\n",
            "Epoch 91/100\n",
            "142154/142154 [==============================] - 2s 17us/step - loss: 0.7680 - val_loss: 0.7679\n",
            "Epoch 92/100\n",
            "142154/142154 [==============================] - 2s 17us/step - loss: 0.7680 - val_loss: 0.7679\n",
            "Epoch 93/100\n",
            "142154/142154 [==============================] - 2s 17us/step - loss: 0.7679 - val_loss: 0.7677\n",
            "Epoch 94/100\n",
            "142154/142154 [==============================] - 2s 16us/step - loss: 0.7680 - val_loss: 0.7677\n",
            "Epoch 95/100\n",
            "142154/142154 [==============================] - 2s 17us/step - loss: 0.7679 - val_loss: 0.7679\n",
            "Epoch 96/100\n",
            "142154/142154 [==============================] - 2s 17us/step - loss: 0.7679 - val_loss: 0.7678\n",
            "Epoch 97/100\n",
            "142154/142154 [==============================] - 2s 17us/step - loss: 0.7679 - val_loss: 0.7677\n",
            "Epoch 98/100\n",
            "142154/142154 [==============================] - 2s 17us/step - loss: 0.7679 - val_loss: 0.7678\n",
            "Epoch 99/100\n",
            "142154/142154 [==============================] - 2s 17us/step - loss: 0.7678 - val_loss: 0.7677\n",
            "Epoch 100/100\n",
            "142154/142154 [==============================] - 2s 17us/step - loss: 0.7679 - val_loss: 0.7675\n"
          ],
          "name": "stdout"
        },
        {
          "output_type": "execute_result",
          "data": {
            "text/plain": [
              "<keras.callbacks.History at 0x7f343aae3390>"
            ]
          },
          "metadata": {
            "tags": []
          },
          "execution_count": 14
        }
      ]
    },
    {
      "cell_type": "code",
      "metadata": {
        "id": "qzcu7y3nxsw3",
        "outputId": "d1f73fe7-8c35-402d-9123-c63bf2d2a8f7",
        "colab": {
          "base_uri": "https://localhost:8080/",
          "height": 175
        }
      },
      "source": [
        "predictions = autoencoder.predict(X_train)\n",
        "mse = np.mean(np.power(X_train - predictions, 2), axis=1)\n",
        "error_df = pd.DataFrame({'reconstruction_error': mse,\n",
        "                        'true_class': y_train})\n",
        "error_df.groupby('true_class').describe()"
      ],
      "execution_count": null,
      "outputs": [
        {
          "output_type": "execute_result",
          "data": {
            "text/html": [
              "<div>\n",
              "<style scoped>\n",
              "    .dataframe tbody tr th:only-of-type {\n",
              "        vertical-align: middle;\n",
              "    }\n",
              "\n",
              "    .dataframe tbody tr th {\n",
              "        vertical-align: top;\n",
              "    }\n",
              "\n",
              "    .dataframe thead tr th {\n",
              "        text-align: left;\n",
              "    }\n",
              "\n",
              "    .dataframe thead tr:last-of-type th {\n",
              "        text-align: right;\n",
              "    }\n",
              "</style>\n",
              "<table border=\"1\" class=\"dataframe\">\n",
              "  <thead>\n",
              "    <tr>\n",
              "      <th></th>\n",
              "      <th colspan=\"8\" halign=\"left\">reconstruction_error</th>\n",
              "    </tr>\n",
              "    <tr>\n",
              "      <th></th>\n",
              "      <th>count</th>\n",
              "      <th>mean</th>\n",
              "      <th>std</th>\n",
              "      <th>min</th>\n",
              "      <th>25%</th>\n",
              "      <th>50%</th>\n",
              "      <th>75%</th>\n",
              "      <th>max</th>\n",
              "    </tr>\n",
              "    <tr>\n",
              "      <th>true_class</th>\n",
              "      <th></th>\n",
              "      <th></th>\n",
              "      <th></th>\n",
              "      <th></th>\n",
              "      <th></th>\n",
              "      <th></th>\n",
              "      <th></th>\n",
              "      <th></th>\n",
              "    </tr>\n",
              "  </thead>\n",
              "  <tbody>\n",
              "    <tr>\n",
              "      <th>0</th>\n",
              "      <td>142154.0</td>\n",
              "      <td>0.767519</td>\n",
              "      <td>3.439808</td>\n",
              "      <td>0.037731</td>\n",
              "      <td>0.227251</td>\n",
              "      <td>0.396262</td>\n",
              "      <td>0.645605</td>\n",
              "      <td>318.941692</td>\n",
              "    </tr>\n",
              "    <tr>\n",
              "      <th>1</th>\n",
              "      <td>249.0</td>\n",
              "      <td>29.855354</td>\n",
              "      <td>43.107802</td>\n",
              "      <td>0.118304</td>\n",
              "      <td>4.228176</td>\n",
              "      <td>10.783928</td>\n",
              "      <td>26.808312</td>\n",
              "      <td>282.265950</td>\n",
              "    </tr>\n",
              "  </tbody>\n",
              "</table>\n",
              "</div>"
            ],
            "text/plain": [
              "           reconstruction_error             ...                       \n",
              "                          count       mean  ...        75%         max\n",
              "true_class                                  ...                       \n",
              "0                      142154.0   0.767519  ...   0.645605  318.941692\n",
              "1                         249.0  29.855354  ...  26.808312  282.265950\n",
              "\n",
              "[2 rows x 8 columns]"
            ]
          },
          "metadata": {
            "tags": []
          },
          "execution_count": 15
        }
      ]
    },
    {
      "cell_type": "markdown",
      "metadata": {
        "id": "rRQepwFre9UM"
      },
      "source": [
        "As we can see above the error for non fraudulent case is lower than the error for fraudulent cases. We use a threshold of mean plus 3 sds to classify the test set."
      ]
    },
    {
      "cell_type": "code",
      "metadata": {
        "id": "-zAII8DQxw-B"
      },
      "source": [
        "test_predictions=autoencoder.predict(X_test)\n",
        "mse = np.mean(np.power(X_test - test_predictions, 2), axis=1)\n",
        "y_pred=[(lambda er: 1 if er>=11.078922  else 0)(er) for er in mse]"
      ],
      "execution_count": null,
      "outputs": []
    },
    {
      "cell_type": "code",
      "metadata": {
        "id": "mZ4V1lfb46jQ",
        "outputId": "ddd09775-e18f-411a-bf83-4204e1a7bfef",
        "colab": {
          "base_uri": "https://localhost:8080/",
          "height": 295
        }
      },
      "source": [
        "conf_matrix = metrics.confusion_matrix(y_test,y_pred)\n",
        "\n",
        "ax=plt.subplot()\n",
        "sns.heatmap(conf_matrix,annot=True,ax=ax,fmt='g')#annot=True to annotate cells, fmt='g' numbers not scientific form\n",
        "ax.set_xlabel('Predicted labels'); ax.set_ylabel('True labels')\n",
        "ax.set_title('Confusion Matrix'); \n",
        "ax.xaxis.set_ticklabels(['Normal', 'Fraud']); ax.yaxis.set_ticklabels(['Normal', 'Fraud']);\n",
        "ax.set(yticks=[0, 2], \n",
        "       xticks=[0.5, 1.5])\n",
        "ax.yaxis.set_major_locator(ticker.IndexLocator(base=1, offset=0.5))"
      ],
      "execution_count": null,
      "outputs": [
        {
          "output_type": "display_data",
          "data": {
            "image/png": "[encoded data removed]",
            "text/plain": [
              "<Figure size 432x288 with 2 Axes>"
            ]
          },
          "metadata": {
            "tags": []
          }
        }
      ]
    },
    {
      "cell_type": "markdown",
      "metadata": {
        "id": "Nh2xw3tcfng9"
      },
      "source": [
        "##Second method: using encoder part of autoencoder and k-NN\n",
        "\n",
        "We train using all cases (fraud/non-fraud)in train dataset and use the result to map the instances into a 12-dimensional space. The mapped cases are fed to k-NN for classification."
      ]
    },
    {
      "cell_type": "code",
      "metadata": {
        "id": "B7SnYf1KFVm9",
        "outputId": "dbeb5d25-878e-4684-d802-734557fff4b2",
        "colab": {
          "base_uri": "https://localhost:8080/",
          "height": 1000
        }
      },
      "source": [
        "input_layer_all = Input(shape=(29, ))\n",
        "encoded_all = Dense(12,activation='tanh')(input_layer_all)\n",
        "decoded_all = Dense(29,activation='sigmoid')(encoded_all)\n",
        "autoencoder_all = Model(input_layer_all,decoded_all)\n",
        "autoencoder_all.compile(optimizer='adam',loss='mean_squared_error')\n",
        "autoencoder_all.fit(X_train, X_train, epochs = 100, batch_size=128,\n",
        "validation_data=(X_train,X_train))"
      ],
      "execution_count": null,
      "outputs": [
        {
          "output_type": "stream",
          "text": [
            "Train on 142403 samples, validate on 142403 samples\n",
            "Epoch 1/100\n",
            "142403/142403 [==============================] - 3s 20us/step - loss: 1.0494 - val_loss: 0.9373\n",
            "Epoch 2/100\n",
            "142403/142403 [==============================] - 3s 19us/step - loss: 0.9123 - val_loss: 0.8942\n",
            "Epoch 3/100\n",
            "142403/142403 [==============================] - 2s 17us/step - loss: 0.8835 - val_loss: 0.8743\n",
            "Epoch 4/100\n",
            "142403/142403 [==============================] - 2s 17us/step - loss: 0.8679 - val_loss: 0.8622\n",
            "Epoch 5/100\n",
            "142403/142403 [==============================] - 2s 17us/step - loss: 0.8580 - val_loss: 0.8540\n",
            "Epoch 6/100\n",
            "142403/142403 [==============================] - 2s 17us/step - loss: 0.8509 - val_loss: 0.8480\n",
            "Epoch 7/100\n",
            "142403/142403 [==============================] - 3s 18us/step - loss: 0.8457 - val_loss: 0.8436\n",
            "Epoch 8/100\n",
            "142403/142403 [==============================] - 2s 17us/step - loss: 0.8419 - val_loss: 0.8402\n",
            "Epoch 9/100\n",
            "142403/142403 [==============================] - 2s 17us/step - loss: 0.8389 - val_loss: 0.8376\n",
            "Epoch 10/100\n",
            "142403/142403 [==============================] - 2s 17us/step - loss: 0.8365 - val_loss: 0.8353\n",
            "Epoch 11/100\n",
            "142403/142403 [==============================] - 2s 17us/step - loss: 0.8344 - val_loss: 0.8336\n",
            "Epoch 12/100\n",
            "142403/142403 [==============================] - 2s 17us/step - loss: 0.8328 - val_loss: 0.8321\n",
            "Epoch 13/100\n",
            "142403/142403 [==============================] - 2s 17us/step - loss: 0.8315 - val_loss: 0.8308\n",
            "Epoch 14/100\n",
            "142403/142403 [==============================] - 2s 17us/step - loss: 0.8303 - val_loss: 0.8297\n",
            "Epoch 15/100\n",
            "142403/142403 [==============================] - 2s 17us/step - loss: 0.8294 - val_loss: 0.8290\n",
            "Epoch 16/100\n",
            "142403/142403 [==============================] - 2s 17us/step - loss: 0.8284 - val_loss: 0.8280\n",
            "Epoch 17/100\n",
            "142403/142403 [==============================] - 2s 17us/step - loss: 0.8277 - val_loss: 0.8272\n",
            "Epoch 18/100\n",
            "142403/142403 [==============================] - 2s 17us/step - loss: 0.8270 - val_loss: 0.8266\n",
            "Epoch 19/100\n",
            "142403/142403 [==============================] - 2s 17us/step - loss: 0.8263 - val_loss: 0.8260\n",
            "Epoch 20/100\n",
            "142403/142403 [==============================] - 2s 17us/step - loss: 0.8258 - val_loss: 0.8257\n",
            "Epoch 21/100\n",
            "142403/142403 [==============================] - 2s 17us/step - loss: 0.8255 - val_loss: 0.8251\n",
            "Epoch 22/100\n",
            "142403/142403 [==============================] - 2s 17us/step - loss: 0.8250 - val_loss: 0.8247\n",
            "Epoch 23/100\n",
            "142403/142403 [==============================] - 2s 17us/step - loss: 0.8246 - val_loss: 0.8243\n",
            "Epoch 24/100\n",
            "142403/142403 [==============================] - 2s 17us/step - loss: 0.8243 - val_loss: 0.8244\n",
            "Epoch 25/100\n",
            "142403/142403 [==============================] - 2s 16us/step - loss: 0.8241 - val_loss: 0.8237\n",
            "Epoch 26/100\n",
            "142403/142403 [==============================] - 2s 17us/step - loss: 0.8238 - val_loss: 0.8239\n",
            "Epoch 27/100\n",
            "142403/142403 [==============================] - 2s 17us/step - loss: 0.8236 - val_loss: 0.8234\n",
            "Epoch 28/100\n",
            "142403/142403 [==============================] - 2s 17us/step - loss: 0.8233 - val_loss: 0.8231\n",
            "Epoch 29/100\n",
            "142403/142403 [==============================] - 2s 17us/step - loss: 0.8231 - val_loss: 0.8228\n",
            "Epoch 30/100\n",
            "142403/142403 [==============================] - 2s 17us/step - loss: 0.8228 - val_loss: 0.8226\n",
            "Epoch 31/100\n",
            "142403/142403 [==============================] - 2s 17us/step - loss: 0.8227 - val_loss: 0.8225\n",
            "Epoch 32/100\n",
            "142403/142403 [==============================] - 2s 17us/step - loss: 0.8225 - val_loss: 0.8222\n",
            "Epoch 33/100\n",
            "142403/142403 [==============================] - 2s 17us/step - loss: 0.8223 - val_loss: 0.8224\n",
            "Epoch 34/100\n",
            "142403/142403 [==============================] - 3s 18us/step - loss: 0.8222 - val_loss: 0.8219\n",
            "Epoch 35/100\n",
            "142403/142403 [==============================] - 3s 18us/step - loss: 0.8220 - val_loss: 0.8218\n",
            "Epoch 36/100\n",
            "142403/142403 [==============================] - 3s 18us/step - loss: 0.8219 - val_loss: 0.8218\n",
            "Epoch 37/100\n",
            "142403/142403 [==============================] - 3s 20us/step - loss: 0.8217 - val_loss: 0.8215\n",
            "Epoch 38/100\n",
            "142403/142403 [==============================] - 2s 18us/step - loss: 0.8216 - val_loss: 0.8215\n",
            "Epoch 39/100\n",
            "142403/142403 [==============================] - 2s 17us/step - loss: 0.8215 - val_loss: 0.8213\n",
            "Epoch 40/100\n",
            "142403/142403 [==============================] - 2s 17us/step - loss: 0.8214 - val_loss: 0.8213\n",
            "Epoch 41/100\n",
            "142403/142403 [==============================] - 2s 17us/step - loss: 0.8214 - val_loss: 0.8211\n",
            "Epoch 42/100\n",
            "142403/142403 [==============================] - 3s 18us/step - loss: 0.8212 - val_loss: 0.8209\n",
            "Epoch 43/100\n",
            "142403/142403 [==============================] - 2s 17us/step - loss: 0.8210 - val_loss: 0.8209\n",
            "Epoch 44/100\n",
            "142403/142403 [==============================] - 2s 17us/step - loss: 0.8210 - val_loss: 0.8208\n",
            "Epoch 45/100\n",
            "142403/142403 [==============================] - 2s 17us/step - loss: 0.8209 - val_loss: 0.8208\n",
            "Epoch 46/100\n",
            "142403/142403 [==============================] - 2s 17us/step - loss: 0.8208 - val_loss: 0.8209\n",
            "Epoch 47/100\n",
            "142403/142403 [==============================] - 2s 17us/step - loss: 0.8207 - val_loss: 0.8205\n",
            "Epoch 48/100\n",
            "142403/142403 [==============================] - 2s 17us/step - loss: 0.8207 - val_loss: 0.8206\n",
            "Epoch 49/100\n",
            "142403/142403 [==============================] - 2s 17us/step - loss: 0.8206 - val_loss: 0.8205\n",
            "Epoch 50/100\n",
            "142403/142403 [==============================] - 2s 17us/step - loss: 0.8205 - val_loss: 0.8203\n",
            "Epoch 51/100\n",
            "142403/142403 [==============================] - 2s 17us/step - loss: 0.8204 - val_loss: 0.8202\n",
            "Epoch 52/100\n",
            "142403/142403 [==============================] - 2s 17us/step - loss: 0.8203 - val_loss: 0.8202\n",
            "Epoch 53/100\n",
            "142403/142403 [==============================] - 2s 17us/step - loss: 0.8203 - val_loss: 0.8202\n",
            "Epoch 54/100\n",
            "142403/142403 [==============================] - 2s 17us/step - loss: 0.8203 - val_loss: 0.8201\n",
            "Epoch 55/100\n",
            "142403/142403 [==============================] - 2s 16us/step - loss: 0.8202 - val_loss: 0.8202\n",
            "Epoch 56/100\n",
            "142403/142403 [==============================] - 2s 17us/step - loss: 0.8201 - val_loss: 0.8200\n",
            "Epoch 57/100\n",
            "142403/142403 [==============================] - 2s 17us/step - loss: 0.8200 - val_loss: 0.8197\n",
            "Epoch 58/100\n",
            "142403/142403 [==============================] - 2s 17us/step - loss: 0.8200 - val_loss: 0.8199\n",
            "Epoch 59/100\n",
            "142403/142403 [==============================] - 2s 17us/step - loss: 0.8199 - val_loss: 0.8196\n",
            "Epoch 60/100\n",
            "142403/142403 [==============================] - 2s 17us/step - loss: 0.8199 - val_loss: 0.8197\n",
            "Epoch 61/100\n",
            "142403/142403 [==============================] - 2s 16us/step - loss: 0.8198 - val_loss: 0.8197\n",
            "Epoch 62/100\n",
            "142403/142403 [==============================] - 2s 17us/step - loss: 0.8197 - val_loss: 0.8198\n",
            "Epoch 63/100\n",
            "142403/142403 [==============================] - 2s 17us/step - loss: 0.8197 - val_loss: 0.8195\n",
            "Epoch 64/100\n",
            "142403/142403 [==============================] - 2s 17us/step - loss: 0.8196 - val_loss: 0.8195\n",
            "Epoch 65/100\n",
            "142403/142403 [==============================] - 2s 16us/step - loss: 0.8195 - val_loss: 0.8195\n",
            "Epoch 66/100\n",
            "142403/142403 [==============================] - 2s 17us/step - loss: 0.8194 - val_loss: 0.8193\n",
            "Epoch 67/100\n",
            "142403/142403 [==============================] - 2s 17us/step - loss: 0.8194 - val_loss: 0.8192\n",
            "Epoch 68/100\n",
            "142403/142403 [==============================] - 2s 16us/step - loss: 0.8194 - val_loss: 0.8192\n",
            "Epoch 69/100\n",
            "142403/142403 [==============================] - 2s 17us/step - loss: 0.8193 - val_loss: 0.8191\n",
            "Epoch 70/100\n",
            "142403/142403 [==============================] - 2s 17us/step - loss: 0.8193 - val_loss: 0.8192\n",
            "Epoch 71/100\n",
            "142403/142403 [==============================] - 2s 17us/step - loss: 0.8192 - val_loss: 0.8196\n",
            "Epoch 72/100\n",
            "142403/142403 [==============================] - 2s 16us/step - loss: 0.8192 - val_loss: 0.8194\n",
            "Epoch 73/100\n",
            "142403/142403 [==============================] - 2s 16us/step - loss: 0.8191 - val_loss: 0.8190\n",
            "Epoch 74/100\n",
            "142403/142403 [==============================] - 2s 17us/step - loss: 0.8190 - val_loss: 0.8189\n",
            "Epoch 75/100\n",
            "142403/142403 [==============================] - 2s 17us/step - loss: 0.8192 - val_loss: 0.8190\n",
            "Epoch 76/100\n",
            "142403/142403 [==============================] - 2s 16us/step - loss: 0.8191 - val_loss: 0.8188\n",
            "Epoch 77/100\n",
            "142403/142403 [==============================] - 2s 17us/step - loss: 0.8189 - val_loss: 0.8189\n",
            "Epoch 78/100\n",
            "142403/142403 [==============================] - 2s 17us/step - loss: 0.8190 - val_loss: 0.8191\n",
            "Epoch 79/100\n",
            "142403/142403 [==============================] - 2s 17us/step - loss: 0.8188 - val_loss: 0.8187\n",
            "Epoch 80/100\n",
            "142403/142403 [==============================] - 2s 16us/step - loss: 0.8188 - val_loss: 0.8186\n",
            "Epoch 81/100\n",
            "142403/142403 [==============================] - 2s 17us/step - loss: 0.8189 - val_loss: 0.8184\n",
            "Epoch 82/100\n",
            "142403/142403 [==============================] - 2s 17us/step - loss: 0.8186 - val_loss: 0.8185\n",
            "Epoch 83/100\n",
            "142403/142403 [==============================] - 2s 16us/step - loss: 0.8188 - val_loss: 0.8185\n",
            "Epoch 84/100\n",
            "142403/142403 [==============================] - 2s 17us/step - loss: 0.8188 - val_loss: 0.8184\n",
            "Epoch 85/100\n",
            "142403/142403 [==============================] - 2s 16us/step - loss: 0.8186 - val_loss: 0.8189\n",
            "Epoch 86/100\n",
            "142403/142403 [==============================] - 2s 17us/step - loss: 0.8187 - val_loss: 0.8184\n",
            "Epoch 87/100\n",
            "142403/142403 [==============================] - 2s 17us/step - loss: 0.8185 - val_loss: 0.8186\n",
            "Epoch 88/100\n",
            "142403/142403 [==============================] - 2s 17us/step - loss: 0.8186 - val_loss: 0.8184\n",
            "Epoch 89/100\n",
            "142403/142403 [==============================] - 2s 17us/step - loss: 0.8186 - val_loss: 0.8186\n",
            "Epoch 90/100\n",
            "142403/142403 [==============================] - 2s 17us/step - loss: 0.8186 - val_loss: 0.8182\n",
            "Epoch 91/100\n",
            "142403/142403 [==============================] - 2s 17us/step - loss: 0.8185 - val_loss: 0.8186\n",
            "Epoch 92/100\n",
            "142403/142403 [==============================] - 2s 16us/step - loss: 0.8185 - val_loss: 0.8182\n",
            "Epoch 93/100\n",
            "142403/142403 [==============================] - 2s 17us/step - loss: 0.8183 - val_loss: 0.8183\n",
            "Epoch 94/100\n",
            "142403/142403 [==============================] - 2s 17us/step - loss: 0.8184 - val_loss: 0.8183\n",
            "Epoch 95/100\n",
            "142403/142403 [==============================] - 2s 16us/step - loss: 0.8182 - val_loss: 0.8184\n",
            "Epoch 96/100\n",
            "142403/142403 [==============================] - 2s 16us/step - loss: 0.8183 - val_loss: 0.8180\n",
            "Epoch 97/100\n",
            "142403/142403 [==============================] - 2s 17us/step - loss: 0.8183 - val_loss: 0.8182\n",
            "Epoch 98/100\n",
            "142403/142403 [==============================] - 2s 16us/step - loss: 0.8182 - val_loss: 0.8182\n",
            "Epoch 99/100\n",
            "142403/142403 [==============================] - 2s 16us/step - loss: 0.8182 - val_loss: 0.8182\n",
            "Epoch 100/100\n",
            "142403/142403 [==============================] - 2s 16us/step - loss: 0.8181 - val_loss: 0.8182\n"
          ],
          "name": "stdout"
        },
        {
          "output_type": "execute_result",
          "data": {
            "text/plain": [
              "<keras.callbacks.History at 0x7f3432236dd8>"
            ]
          },
          "metadata": {
            "tags": []
          },
          "execution_count": 18
        }
      ]
    },
    {
      "cell_type": "code",
      "metadata": {
        "id": "9MntASWT9EYJ"
      },
      "source": [
        "encoder_all = Model(input_layer_all,encoded_all)\n",
        "enc_all = encoder_all.predict(X_train)"
      ],
      "execution_count": null,
      "outputs": []
    },
    {
      "cell_type": "markdown",
      "metadata": {
        "id": "hYRDsZ6ygSJq"
      },
      "source": [
        "Loading library for k-NN"
      ]
    },
    {
      "cell_type": "code",
      "metadata": {
        "id": "iix7bOJQ5gxc"
      },
      "source": [
        "from sklearn.neighbors import KNeighborsClassifier"
      ],
      "execution_count": null,
      "outputs": []
    },
    {
      "cell_type": "code",
      "metadata": {
        "id": "CaDHQXxt5iCg"
      },
      "source": [
        "knn_model = KNeighborsClassifier(n_neighbors=3)"
      ],
      "execution_count": null,
      "outputs": []
    },
    {
      "cell_type": "code",
      "metadata": {
        "id": "YjqB805u9XqF",
        "outputId": "28832207-2428-4477-973e-760c44169ee8",
        "colab": {
          "base_uri": "https://localhost:8080/",
          "height": 72
        }
      },
      "source": [
        "# Train the model using the training sets\n",
        "knn_model.fit(enc_all,y_train)"
      ],
      "execution_count": null,
      "outputs": [
        {
          "output_type": "execute_result",
          "data": {
            "text/plain": [
              "KNeighborsClassifier(algorithm='auto', leaf_size=30, metric='minkowski',\n",
              "                     metric_params=None, n_jobs=None, n_neighbors=3, p=2,\n",
              "                     weights='uniform')"
            ]
          },
          "metadata": {
            "tags": []
          },
          "execution_count": 22
        }
      ]
    },
    {
      "cell_type": "code",
      "metadata": {
        "id": "80H7xbeSBvWc",
        "outputId": "ff0fe410-fda3-4ca8-ebbf-108b745579ce",
        "colab": {
          "base_uri": "https://localhost:8080/",
          "height": 54
        }
      },
      "source": [
        "%%time\n",
        "knn_predicted= knn_model.predict(encoder_all.predict(X_test))"
      ],
      "execution_count": null,
      "outputs": [
        {
          "output_type": "stream",
          "text": [
            "CPU times: user 34.1 s, sys: 130 ms, total: 34.2 s\n",
            "Wall time: 33.6 s\n"
          ],
          "name": "stdout"
        }
      ]
    },
    {
      "cell_type": "code",
      "metadata": {
        "id": "6aVN3Qe-D3Oz",
        "outputId": "33126592-8277-4c98-8167-4be8a5159c2a",
        "colab": {
          "base_uri": "https://localhost:8080/",
          "height": 295
        }
      },
      "source": [
        "conf_matrix = metrics.confusion_matrix(y_test,knn_predicted)\n",
        "\n",
        "ax=plt.subplot()\n",
        "sns.heatmap(conf_matrix,annot=True,ax=ax,fmt='g')#annot=True to annotate cells, fmt='g' numbers not scientific form\n",
        "ax.set_xlabel('Predicted labels'); ax.set_ylabel('True labels')\n",
        "ax.set_title('Confusion Matrix'); \n",
        "ax.xaxis.set_ticklabels(['Normal', 'Fraud']); ax.yaxis.set_ticklabels(['Normal', 'Fraud']);\n",
        "ax.set(yticks=[0, 2], \n",
        "       xticks=[0.5, 1.5])\n",
        "ax.yaxis.set_major_locator(ticker.IndexLocator(base=1, offset=0.5))"
      ],
      "execution_count": null,
      "outputs": [
        {
          "output_type": "display_data",
          "data": {
            "image/png": "[encoded data removed]",
            "text/plain": [
              "<Figure size 432x288 with 2 Axes>"
            ]
          },
          "metadata": {
            "tags": []
          }
        }
      ]
    }
  ]
}